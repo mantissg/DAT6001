{
  "nbformat": 4,
  "nbformat_minor": 0,
  "metadata": {
    "colab": {
      "provenance": []
    },
    "kernelspec": {
      "name": "python3",
      "display_name": "Python 3"
    },
    "language_info": {
      "name": "python"
    }
  },
  "cells": [
    {
      "cell_type": "code",
      "source": [
        "# function to plot attendance bar charts for each contextual category\n",
        "def plot_attendance_proportions(df, varColumn):\n",
        "    filtered_df = df[df['PERCENTAGEATT'] <= 0.8]\n",
        "\n",
        "    proportions = filtered_df.groupby(varColumn).size() / df.groupby(varColumn).size()\n",
        "    total_proportions = 1 - proportions\n",
        "    proportions.index = proportions.index.astype(bool).map({True: 'True', False: 'False'})\n",
        "\n",
        "    bars2 = plt.bar(proportions.index, total_proportions, label='Above 0.8')\n",
        "    bars = plt.bar(proportions.index, proportions, bottom=total_proportions, label='Below or Equal to 0.8', color='#FF7F0E')\n",
        "\n",
        "    plt.title('Proportion of Learners with 80% or Less Attendance by' + varColumn)\n",
        "    plt.xlabel('FSM Category')\n",
        "    plt.ylabel('Proportion of Learners')\n",
        "    plt.legend(title='Attendance Category', bbox_to_anchor=(1.05, 1), loc='upper left')\n",
        "\n",
        "    for bar, proportion in zip(bars + bars2, proportions):\n",
        "        height = bar.get_height()\n",
        "        plt.text(bar.get_x() + bar.get_width() / 2, bar.get_y() + height / 2,\n",
        "                f'{proportion:.1%}', ha='center', va='center')\n",
        "\n",
        "    plt.show()"
      ],
      "metadata": {
        "id": "bTScxsY-jfBj"
      },
      "execution_count": 1,
      "outputs": []
    },
    {
      "cell_type": "code",
      "source": [
        "# function to plot attendance bar charts for each contextual category by year\n",
        "def plot_attendance_proportions_with_year(df, varColumn):\n",
        "    filtered_df = df.copy()\n",
        "    filtered_df['AttGroup'] = pd.cut(filtered_df['PERCENTAGEATT'], bins=[-np.inf, 0.8, np.inf], labels=['<=0.8', '>0.8'])\n",
        "\n",
        "    proportions = filtered_df.groupby(['Year', varColumn, 'AttGroup']).size().unstack(fill_value=0)\n",
        "    proportions = proportions.div(proportions.sum(axis=1), axis=0)\n",
        "\n",
        "    colors = ['#FF7F0E', '#1F77B4']\n",
        "\n",
        "    fig, ax = plt.subplots(figsize=(10, 6))\n",
        "    years = proportions.index.get_level_values('Year').unique()\n",
        "    x = np.arange(len(years))\n",
        "    width = 0.35\n",
        "\n",
        "    for i, var_value in enumerate([True, False]):\n",
        "        true_data = proportions.loc[(years, var_value), '<=0.8']\n",
        "        bars = ax.bar(x + i * width, true_data, width, label='True' if var_value else 'False', color=colors[i])\n",
        "        for bar, year in zip(bars, years):\n",
        "            height = bar.get_height()\n",
        "            ax.annotate(f'{height:.1%}', xy=(bar.get_x() + bar.get_width() / 2, height),\n",
        "                        xytext=(0, 3),\n",
        "                        textcoords=\"offset points\",\n",
        "                        ha='center', va='bottom', fontsize=8)\n",
        "\n",
        "    ax.set_xlabel('Year')\n",
        "    ax.set_ylabel('Proportion of Learners')\n",
        "    ax.set_title('Proportion of Learners with 80% or Less Attendance by Year and ' + varColumn)\n",
        "    ax.set_xticks(x + width / 2)\n",
        "    ax.set_xticklabels(years)\n",
        "    ax.legend(title=varColumn, labels=['True', 'False'], bbox_to_anchor=(1.05, 1), loc='upper left')\n",
        "\n",
        "    plt.tight_layout()\n",
        "    plt.show()"
      ],
      "metadata": {
        "id": "U7JIrZq4me8v"
      },
      "execution_count": 2,
      "outputs": []
    },
    {
      "cell_type": "code",
      "source": [
        "# function to plot clustered attendance bar charts for multiple contextual categories\n",
        "def plot_clustered_attendance_proportions(df, features):\n",
        "    fig, ax = plt.subplots(figsize=(12, 6))\n",
        "    bar_width = 0.35\n",
        "    indices = np.arange(len(features))\n",
        "    colors = ['#FF7F0E', '#1F77B4']\n",
        "\n",
        "    for i, feature in enumerate(features):\n",
        "        filtered_df = df[df['PERCENTAGEATT'] <= 0.8]\n",
        "        proportions = filtered_df.groupby(feature).size() / df.groupby(feature).size()\n",
        "        proportions.index = proportions.index.map({True: 'True', False: 'False'})\n",
        "        true_bar = ax.bar(indices[i] - bar_width / 2, proportions.get('True', 0), bar_width, label='True' if i == 0 else \"\", color=colors[0])\n",
        "        false_bar = ax.bar(indices[i] + bar_width / 2, proportions.get('False', 0), bar_width, label='False' if i == 0 else \"\", color=colors[1])\n",
        "        ax.text(indices[i] - bar_width / 2, proportions.get('True', 0) / 2,\n",
        "                f'{proportions.get(\"True\", 0):.1%}', ha='center', va='center', color='black')\n",
        "        ax.text(indices[i] + bar_width / 2, proportions.get('False', 0) / 2,\n",
        "                f'{proportions.get(\"False\", 0):.1%}', ha='center', va='center', color='black')\n",
        "\n",
        "    ax.set_title('Proportion of Learners with 80% or Less Attendance by Feature')\n",
        "    ax.set_xlabel('Features')\n",
        "    ax.set_ylabel('Proportion of Learners')\n",
        "    ax.legend(title='Category', bbox_to_anchor=(1.05, 1), loc='upper left')\n",
        "    ax.set_xticks(indices)\n",
        "    ax.set_xticklabels(features)\n",
        "\n",
        "    plt.show()"
      ],
      "metadata": {
        "id": "SbXILDHUlnLZ"
      },
      "execution_count": 3,
      "outputs": []
    },
    {
      "cell_type": "code",
      "source": [
        "# function to plot clustered average exclusion session missed bar charts for multiple contextual categories\n",
        "def plot_weighted_avg_exclusion_sessions(df, features):\n",
        "    fig, ax = plt.subplots(figsize=(12, 6))\n",
        "    bar_width = 0.35\n",
        "    indices = np.arange(len(features))\n",
        "    colors = ['#FF7F0E', '#1F77B4']\n",
        "    weighted_avg_true_values = []\n",
        "    weighted_avg_false_values = []\n",
        "\n",
        "    for i, feature in enumerate(features):\n",
        "        filtered_df = df[df['Exclusion_SessionsMissed'] > 0]\n",
        "        group_size = filtered_df.groupby(feature)['Exclusion_SessionsMissed'].count()\n",
        "        weighted_avg_exclusions = filtered_df.groupby(feature)['Exclusion_SessionsMissed'].sum() / group_size\n",
        "        weighted_avg_exclusions.index = weighted_avg_exclusions.index.map({True: 'True', False: 'False'})\n",
        "        weighted_avg_true_values.append(weighted_avg_exclusions.get('True', 0))\n",
        "        weighted_avg_false_values.append(weighted_avg_exclusions.get('False', 0))\n",
        "\n",
        "    true_bar = ax.bar(indices - bar_width / 2, weighted_avg_true_values, bar_width, label='True', color=colors[0])\n",
        "    false_bar = ax.bar(indices + bar_width / 2, weighted_avg_false_values, bar_width, label='False', color=colors[1])\n",
        "\n",
        "    for i, true_value in enumerate(weighted_avg_true_values):\n",
        "        ax.text(indices[i] - bar_width / 2, true_value / 2,\n",
        "                f'{true_value:.1f}', ha='center', va='center', color='black')\n",
        "    for i, false_value in enumerate(weighted_avg_false_values):\n",
        "        ax.text(indices[i] + bar_width / 2, false_value / 2,\n",
        "                f'{false_value:.1f}', ha='center', va='center', color='black')\n",
        "\n",
        "    ax.set_title('Weighted Average Exclusion Sessions Missed by Feature')\n",
        "    ax.set_xlabel('Features')\n",
        "    ax.set_ylabel('Weighted Average Exclusion Sessions Missed')\n",
        "    ax.legend(title='Category', bbox_to_anchor=(1.05, 1), loc='upper left')\n",
        "    ax.set_xticks(indices)\n",
        "    ax.set_xticklabels(features)\n",
        "\n",
        "    plt.show()"
      ],
      "metadata": {
        "id": "P9dOvMGHnI89"
      },
      "execution_count": 4,
      "outputs": []
    },
    {
      "cell_type": "code",
      "source": [
        "# function to plot clustered average exclusions bar charts for multiple contextual categories\n",
        "def plot_clustered_avg_exclusions(df, features):\n",
        "    fig, ax = plt.subplots(figsize=(12, 6))\n",
        "    bar_width = 0.35\n",
        "    indices = np.arange(len(features))\n",
        "    colors = ['#FF7F0E', '#1F77B4']\n",
        "    avg_true_values = []\n",
        "    avg_false_values = []\n",
        "\n",
        "    for i, feature in enumerate(features):\n",
        "        avg_exclusions = df.groupby(feature)['Exclusions'].mean()\n",
        "        avg_exclusions.index = avg_exclusions.index.map({True: 'True', False: 'False'})\n",
        "        avg_true_values.append(avg_exclusions.get('True', 0))\n",
        "        avg_false_values.append(avg_exclusions.get('False', 0))\n",
        "\n",
        "    true_bar = ax.bar(indices - bar_width / 2, avg_true_values, bar_width, label='True', color=colors[0])\n",
        "    false_bar = ax.bar(indices + bar_width / 2, avg_false_values, bar_width, label='False', color=colors[1])\n",
        "\n",
        "    for i, true_value in enumerate(avg_true_values):\n",
        "        ax.text(indices[i] - bar_width / 2, true_value / 2,\n",
        "                f'{true_value:.1%}', ha='center', va='center', color='black')\n",
        "    for i, false_value in enumerate(avg_false_values):\n",
        "        ax.text(indices[i] + bar_width / 2, false_value / 2,\n",
        "                f'{false_value:.1%}', ha='center', va='center', color='black')\n",
        "\n",
        "    ax.set_title('Average Exclusions by Feature')\n",
        "    ax.set_xlabel('Features')\n",
        "    ax.set_ylabel('Average Exclusions')\n",
        "    ax.legend(title='Category', bbox_to_anchor=(1.05, 1), loc='upper left')\n",
        "    ax.set_xticks(indices)\n",
        "    ax.set_xticklabels(features)\n",
        "\n",
        "    plt.tight_layout()\n",
        "    plt.show()"
      ],
      "metadata": {
        "id": "Q-vyhZmrhckm"
      },
      "execution_count": 5,
      "outputs": []
    }
  ]
}